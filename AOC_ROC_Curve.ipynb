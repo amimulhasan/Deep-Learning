{
  "nbformat": 4,
  "nbformat_minor": 0,
  "metadata": {
    "colab": {
      "provenance": [],
      "authorship_tag": "ABX9TyN3gnQJytOVxCCoTMnubpcJ",
      "include_colab_link": true
    },
    "kernelspec": {
      "name": "python3",
      "display_name": "Python 3"
    },
    "language_info": {
      "name": "python"
    }
  },
  "cells": [
    {
      "cell_type": "markdown",
      "metadata": {
        "id": "view-in-github",
        "colab_type": "text"
      },
      "source": [
        "<a href=\"https://colab.research.google.com/github/amimulhasan/Deep-Learning/blob/main/AOC_ROC_Curve.ipynb\" target=\"_parent\"><img src=\"https://colab.research.google.com/assets/colab-badge.svg\" alt=\"Open In Colab\"/></a>"
      ]
    },
    {
      "cell_type": "code",
      "execution_count": null,
      "metadata": {
        "id": "XACPgNX3ofz5"
      },
      "outputs": [],
      "source": [
        "# ------------------------\n",
        "# Predict the probabilities\n",
        "# ------------------------\n",
        "y_prob = model.predict(X_val)  # Predicted probabilities for each class using the validation data\n",
        "\n",
        "# ------------------------\n",
        "# One-hot encode the true labels for multiclass\n",
        "# ------------------------\n",
        "from sklearn.preprocessing import label_binarize\n",
        "y_val_bin = label_binarize(y_val, classes=[0, 1, 2, 3])  # One-hot encoding for multiclass\n",
        "\n",
        "# ------------------------\n",
        "# Calculate ROC and AUC for each class\n",
        "# ------------------------\n",
        "from sklearn.metrics import roc_curve, roc_auc_score\n",
        "\n",
        "fpr, tpr, roc_auc = dict(), dict(), dict()\n",
        "num_classes = len(np.unique(y_val))  # Adjust to the number of classes\n",
        "\n",
        "# Compute ROC curve and AUC for each class\n",
        "for i in range(num_classes):\n",
        "    fpr[i], tpr[i], _ = roc_curve(y_val_bin[:, i], y_prob[:, i])\n",
        "    roc_auc[i] = roc_auc_score(y_val_bin[:, i], y_prob[:, i])\n",
        "\n",
        "# ------------------------\n",
        "# Plot ROC Curves for each class\n",
        "# ------------------------\n",
        "plt.figure(figsize=(8, 6))\n",
        "for i in range(num_classes):\n",
        "    plt.plot(fpr[i], tpr[i], label=f'Class {i+1} (AUC = {roc_auc[i]:0.2f})')\n",
        "\n",
        "plt.plot([0, 1], [0, 1], color='gray', linestyle='--')\n",
        "plt.xlabel('False Positive Rate')\n",
        "plt.ylabel('True Positive Rate')\n",
        "plt.title('Receiver Operating Characteristic Curve (ROC Curve)')\n",
        "plt.legend(loc='lower right')\n",
        "plt.show()\n",
        "\n",
        "# ------------------------\n",
        "# Print AUC scores for each class\n",
        "# ------------------------\n",
        "for i in range(num_classes):\n",
        "    print(f\"Class {i+1} AUC: {roc_auc[i]:0.2f}\")\n"
      ]
    }
  ]
}