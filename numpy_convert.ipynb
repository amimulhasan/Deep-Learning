{
  "nbformat": 4,
  "nbformat_minor": 0,
  "metadata": {
    "colab": {
      "provenance": [],
      "authorship_tag": "ABX9TyPazqgOCFo7wFgo27hB4QWR",
      "include_colab_link": true
    },
    "kernelspec": {
      "name": "python3",
      "display_name": "Python 3"
    },
    "language_info": {
      "name": "python"
    }
  },
  "cells": [
    {
      "cell_type": "markdown",
      "metadata": {
        "id": "view-in-github",
        "colab_type": "text"
      },
      "source": [
        "<a href=\"https://colab.research.google.com/github/amimulhasan/Deep-Learning/blob/main/numpy_convert.ipynb\" target=\"_parent\"><img src=\"https://colab.research.google.com/assets/colab-badge.svg\" alt=\"Open In Colab\"/></a>"
      ]
    },
    {
      "cell_type": "code",
      "execution_count": null,
      "metadata": {
        "id": "vWZ8IAKTLMh9"
      },
      "outputs": [],
      "source": [
        "# !mkdir -p ~/.kaggle\n",
        "# !cp kaggle.json ~/.kaggle/\n",
        "# !chmod 600 ~/.kaggle/kaggle.json"
      ]
    },
    {
      "cell_type": "code",
      "source": [
        "# !kaggle datasets download masoudnickparvar/brain-tumor-mri-dataset"
      ],
      "metadata": {
        "id": "T4AO0ZMXLU3m"
      },
      "execution_count": null,
      "outputs": []
    },
    {
      "cell_type": "code",
      "source": [
        "from google.colab import drive\n",
        "drive.mount('/content/drive')"
      ],
      "metadata": {
        "colab": {
          "base_uri": "https://localhost:8080/"
        },
        "id": "ko8yeXCXLU9a",
        "outputId": "a202140d-a5f7-408a-cea5-5c4dcb9379de"
      },
      "execution_count": 1,
      "outputs": [
        {
          "output_type": "stream",
          "name": "stdout",
          "text": [
            "Mounted at /content/drive\n"
          ]
        }
      ]
    },
    {
      "cell_type": "code",
      "source": [
        "import zipfile\n",
        "\n",
        "zip_path = '/content/drive/MyDrive/MRI_DATA_IMAGE.zip'\n",
        "extract_to = 'brain_tumor_data'\n",
        "\n",
        "with zipfile.ZipFile(zip_path, 'r') as zip_ref:\n",
        "    zip_ref.extractall(extract_to)\n",
        "\n",
        "print(\"Unzipping completed!\")"
      ],
      "metadata": {
        "colab": {
          "base_uri": "https://localhost:8080/"
        },
        "id": "-HfCz51SLU6y",
        "outputId": "a7e969c3-00e0-442c-8643-2b39f16541c2"
      },
      "execution_count": 3,
      "outputs": [
        {
          "output_type": "stream",
          "name": "stdout",
          "text": [
            "Unzipping completed!\n"
          ]
        }
      ]
    },
    {
      "cell_type": "code",
      "source": [],
      "metadata": {
        "id": "1NBsOmhYLVAS"
      },
      "execution_count": null,
      "outputs": []
    },
    {
      "cell_type": "code",
      "source": [],
      "metadata": {
        "id": "QvPPRNrZLVDD"
      },
      "execution_count": null,
      "outputs": []
    },
    {
      "cell_type": "code",
      "source": [
        "import numpy as np\n",
        "from PIL import Image\n",
        "import os\n",
        "\n",
        "# ------------------------\n",
        "# SETTINGS\n",
        "# ------------------------\n",
        "dataset_dir = \"/content/brain_tumor_data/MRI_DATA_IMAGE\"\n",
        "img_size = (128, 128)\n",
        "\n",
        "X = []\n",
        "y = []\n",
        "\n",
        "# get class names (top level)\n",
        "class_names = sorted([d for d in os.listdir(dataset_dir) if os.path.isdir(os.path.join(dataset_dir, d))])\n",
        "print(\"✅ Classes found:\", class_names)\n",
        "\n",
        "if len(class_names) != 2:\n",
        "    raise ValueError(f\"Expected exactly 2 classes, found {len(class_names)}: {class_names}\")\n",
        "\n",
        "for idx, class_name in enumerate(class_names):\n",
        "    class_path = os.path.join(dataset_dir, class_name)\n",
        "    print(f\"🔍 Processing class '{class_name}' ({idx})\")\n",
        "\n",
        "    # walk through ALL subfolders inside this class folder\n",
        "    for root, _, files in os.walk(class_path):\n",
        "        for file in files:\n",
        "            file_path = os.path.join(root, file)\n",
        "            try:\n",
        "                img = Image.open(file_path).convert('RGB')\n",
        "                img = img.resize(img_size)\n",
        "                img_array = np.array(img) / 255.0  # normalize\n",
        "                X.append(img_array)\n",
        "                y.append(idx)\n",
        "            except Exception as e:\n",
        "                print(f\"⚠️ Failed to process {file_path}: {e}\")\n",
        "\n",
        "# ------------------------\n",
        "# CONVERT TO NUMPY ARRAYS\n",
        "# ------------------------\n",
        "X = np.array(X, dtype=np.float32)\n",
        "y = np.array(y, dtype=np.int32)\n",
        "\n",
        "print(f\"\\n✅ Dataset loaded successfully:\")\n",
        "print(f\"   X shape = {X.shape}\")\n",
        "print(f\"   y shape = {y.shape}\")\n",
        "print(f\"   Class mapping = {dict(enumerate(class_names))}\")\n",
        "\n",
        "# ------------------------\n",
        "# SAVE AS .NPY FILES\n",
        "# ------------------------\n",
        "np.save(\"X.npy\", X)\n",
        "np.save(\"y.npy\", y)\n",
        "print(\"✅ Saved X.npy and y.npy to current working directory.\")\n"
      ],
      "metadata": {
        "colab": {
          "base_uri": "https://localhost:8080/"
        },
        "id": "IcI5yoerLVHA",
        "outputId": "a6eb60b9-d807-4ae8-91c6-110ffe8e7e71"
      },
      "execution_count": 4,
      "outputs": [
        {
          "output_type": "stream",
          "name": "stdout",
          "text": [
            "✅ Classes found: ['Normal', 'Tumor Patient']\n",
            "🔍 Processing class 'Normal' (0)\n",
            "🔍 Processing class 'Tumor Patient' (1)\n",
            "\n",
            "✅ Dataset loaded successfully:\n",
            "   X shape = (1176, 128, 128, 3)\n",
            "   y shape = (1176,)\n",
            "   Class mapping = {0: 'Normal', 1: 'Tumor Patient'}\n",
            "✅ Saved X.npy and y.npy to current working directory.\n"
          ]
        }
      ]
    }
  ]
}